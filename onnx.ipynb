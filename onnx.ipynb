{
 "cells": [
  {
   "cell_type": "code",
   "execution_count": 1,
   "id": "69d2fe0c-ee91-4481-a473-9440e42de398",
   "metadata": {
    "tags": []
   },
   "outputs": [],
   "source": [
    "from resources.network import Network\n",
    "import torch\n",
    "import torch.onnx "
   ]
  },
  {
   "cell_type": "code",
   "execution_count": 2,
   "id": "3f0d975b-e0b2-4ce4-97c6-ae2fa326c61f",
   "metadata": {
    "tags": []
   },
   "outputs": [
    {
     "data": {
      "text/plain": [
       "Network(\n",
       "  (conv1): Conv2d(1, 6, kernel_size=(5, 5), stride=(1, 1))\n",
       "  (conv2): Conv2d(6, 12, kernel_size=(5, 5), stride=(1, 1))\n",
       "  (fc1): Linear(in_features=192, out_features=120, bias=True)\n",
       "  (fc2): Linear(in_features=120, out_features=60, bias=True)\n",
       "  (out): Linear(in_features=60, out_features=10, bias=True)\n",
       ")"
      ]
     },
     "execution_count": 2,
     "metadata": {},
     "output_type": "execute_result"
    }
   ],
   "source": [
    "model = Network()\n",
    "model.load_state_dict(torch.load(\"state_dict_model-Run(lr=0.01, batch_size=1000, shuffle=True, device='cuda').pt\", weights_only=True))\n",
    "model.eval()"
   ]
  },
  {
   "cell_type": "code",
   "execution_count": 3,
   "id": "fe168ba0-f27a-43ff-8184-48063ada50f1",
   "metadata": {
    "tags": []
   },
   "outputs": [],
   "source": [
    "torch_input = torch.randn(1, 1, 28, 28)\n",
    "onnx_program = torch.onnx.export(model, torch_input,'ImageClassifier.onnx')"
   ]
  },
  {
   "cell_type": "code",
   "execution_count": null,
   "id": "12306b85-cda9-421b-be4c-6bba687eee97",
   "metadata": {
    "tags": []
   },
   "outputs": [],
   "source": []
  }
 ],
 "metadata": {
  "kernelspec": {
   "display_name": "Python 3.9",
   "language": "python",
   "name": "python3"
  },
  "language_info": {
   "codemirror_mode": {
    "name": "ipython",
    "version": 3
   },
   "file_extension": ".py",
   "mimetype": "text/x-python",
   "name": "python",
   "nbconvert_exporter": "python",
   "pygments_lexer": "ipython3",
   "version": "3.9.18"
  }
 },
 "nbformat": 4,
 "nbformat_minor": 5
}
